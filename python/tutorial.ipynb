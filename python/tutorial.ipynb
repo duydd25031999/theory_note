{
 "cells": [
  {
   "cell_type": "markdown",
   "metadata": {},
   "source": [
    "# Variable"
   ]
  },
  {
   "cell_type": "code",
   "execution_count": 1,
   "metadata": {},
   "outputs": [
    {
     "name": "stdout",
     "output_type": "stream",
     "text": [
      "<class 'int'>\n"
     ]
    }
   ],
   "source": [
    "x = 2\n",
    "print(type(x))"
   ]
  },
  {
   "cell_type": "markdown",
   "metadata": {},
   "source": [
    "Python không có keyword để khởi tạo var\n",
    "- Chỉ càn gọi tên của var ra thôi\n",
    "- `\" \"` = string thuần\n"
   ]
  },
  {
   "cell_type": "code",
   "execution_count": 2,
   "metadata": {},
   "outputs": [
    {
     "name": "stdout",
     "output_type": "stream",
     "text": [
      "Hello world {x}\n"
     ]
    }
   ],
   "source": [
    "str1 = \"Hello world {x}\"\n",
    "print(str1)"
   ]
  },
  {
   "cell_type": "markdown",
   "metadata": {},
   "source": [
    "- `f\" \"` = string chèn giá trị"
   ]
  },
  {
   "cell_type": "code",
   "execution_count": 3,
   "metadata": {},
   "outputs": [
    {
     "name": "stdout",
     "output_type": "stream",
     "text": [
      "Hello world 2\n"
     ]
    }
   ],
   "source": [
    "str2 = f\"Hello world {x}\"\n",
    "print(str2)"
   ]
  },
  {
   "cell_type": "markdown",
   "metadata": {},
   "source": [
    "# Function"
   ]
  },
  {
   "cell_type": "markdown",
   "metadata": {},
   "source": [
    "Function của python khởi tạo = `def`\n",
    "- Scope của function được define = ta\n",
    "- `*list_param` = list parameters"
   ]
  },
  {
   "cell_type": "code",
   "execution_count": 4,
   "metadata": {},
   "outputs": [
    {
     "name": "stdout",
     "output_type": "stream",
     "text": [
      "Hello Demo 1, Demo 2, Demo 3\n"
     ]
    }
   ],
   "source": [
    "def hello(*args):\n",
    "    str = \", \".join(args);\n",
    "    print(f\"Hello {str}\")\n",
    "\n",
    "hello(\"Demo 1\", \"Demo 2\", \"Demo 3\")"
   ]
  },
  {
   "cell_type": "markdown",
   "metadata": {},
   "source": [
    "## Callback"
   ]
  },
  {
   "cell_type": "code",
   "execution_count": 10,
   "metadata": {},
   "outputs": [
    {
     "name": "stdout",
     "output_type": "stream",
     "text": [
      "callback ('hello', 'world')\n"
     ]
    }
   ],
   "source": [
    "def _function(*args):\n",
    "    print(\"callback\", args)\n",
    "\n",
    "def _function2(callback = None):\n",
    "    if callback is not None:\n",
    "        callback(\"hello\", \"world\")\n",
    "\n",
    "_function2(_function)"
   ]
  },
  {
   "cell_type": "markdown",
   "metadata": {},
   "source": [
    "## Built-in Functions"
   ]
  },
  {
   "cell_type": "markdown",
   "metadata": {},
   "source": [
    "## Lamda"
   ]
  },
  {
   "cell_type": "markdown",
   "metadata": {},
   "source": [
    "~ arrow function của Javascript\n",
    "- Kém hơn rất nhiều so với arrow function"
   ]
  },
  {
   "cell_type": "code",
   "execution_count": 2,
   "metadata": {},
   "outputs": [
    {
     "name": "stdout",
     "output_type": "stream",
     "text": [
      "15\n",
      "13\n"
     ]
    }
   ],
   "source": [
    "x = lambda a : a + 10\n",
    "print(x(5))\n",
    "\n",
    "x = lambda a, b, c : a + b + c\n",
    "print(x(5, 6, 2))"
   ]
  },
  {
   "cell_type": "markdown",
   "metadata": {},
   "source": [
    "# Condition"
   ]
  },
  {
   "cell_type": "code",
   "execution_count": 5,
   "metadata": {},
   "outputs": [
    {
     "name": "stdout",
     "output_type": "stream",
     "text": [
      "x is 2\n"
     ]
    }
   ],
   "source": [
    "if x == 2:\n",
    "    print(\"x is 2\")\n",
    "elif x == 3:\n",
    "    print(\"x is 3\")\n",
    "else:\n",
    "    print(\"I don't know what x is\")"
   ]
  },
  {
   "cell_type": "markdown",
   "metadata": {},
   "source": [
    "The `is` keyword is used to test if two variables refer to the same object.\n",
    "- The test returns True if the two objects are the same object.\n",
    "- The test returns False if they are not the same object, even if the two objects are 100% equal.\n",
    "- Use the `==` operator to test if two variables are equal."
   ]
  },
  {
   "cell_type": "code",
   "execution_count": 6,
   "metadata": {},
   "outputs": [
    {
     "name": "stdout",
     "output_type": "stream",
     "text": [
      "demo 1 False\n",
      "demo 2 True\n"
     ]
    }
   ],
   "source": [
    "a1 = [\"apple\", \"banana\", \"cherry\"]\n",
    "\n",
    "a2 = [\"apple\", \"banana\", \"cherry\"]\n",
    "\n",
    "print(\"demo 1\", a1 is a2)\n",
    "print(\"demo 2\", a1 == a2)"
   ]
  },
  {
   "cell_type": "markdown",
   "metadata": {},
   "source": [
    "The `not` keyword\n",
    "- `not` == `!` in Javascript\n",
    "- `not x in list` == x is not in list"
   ]
  },
  {
   "cell_type": "code",
   "execution_count": 7,
   "metadata": {},
   "outputs": [
    {
     "name": "stdout",
     "output_type": "stream",
     "text": [
      "demo 3 False True\n",
      "demo 3 True False\n",
      "demo 3 0 True\n",
      "demo 3 1 False\n",
      "demo 3  True\n",
      "demo 3 1 False\n",
      "demo 3 None True\n",
      "demo 4 True\n"
     ]
    }
   ],
   "source": [
    "b1 = [False, True, 0, 1, \"\", \"1\", None]\n",
    "for i in b1:\n",
    "    print(\"demo 3\", i, not i)\n",
    "b2 = 2\n",
    "print(\"demo 4\", not b2 in b1)"
   ]
  },
  {
   "cell_type": "markdown",
   "metadata": {},
   "source": [
    "- `or` == `||` in Javascript\n",
    "- `and` == `&&` in Javascript"
   ]
  },
  {
   "cell_type": "markdown",
   "metadata": {},
   "source": [
    "# Try/Expect"
   ]
  },
  {
   "cell_type": "code",
   "execution_count": 8,
   "metadata": {},
   "outputs": [
    {
     "name": "stdout",
     "output_type": "stream",
     "text": [
      "demo 5\n",
      "demo 6\n",
      "demo 7 ('Error 2', 'Error 3')\n"
     ]
    }
   ],
   "source": [
    "try:\n",
    "    raise Exception(\"Error 1\")\n",
    "except:\n",
    "    print(\"demo 5\")\n",
    "finally:\n",
    "    print(\"demo 6\")\n",
    "\n",
    "try:\n",
    "    raise Exception(\"Error 2\", \"Error 3\")\n",
    "except Exception as c1:\n",
    "    print(\"demo 7\", c1.args)"
   ]
  },
  {
   "cell_type": "markdown",
   "metadata": {},
   "source": [
    "# Loop"
   ]
  },
  {
   "cell_type": "code",
   "execution_count": 12,
   "metadata": {},
   "outputs": [
    {
     "name": "stdout",
     "output_type": "stream",
     "text": [
      "demo 8 1\n",
      "demo 8 2\n",
      "demo 8 3\n",
      "demo 8 4\n",
      "demo 8 5\n",
      "demo 8 6\n",
      "demo 8 7\n",
      "demo 8 8\n",
      "demo 8 9\n",
      "demo 9 0\n",
      "demo 9 1\n",
      "demo 9 2\n",
      "demo 9 3\n",
      "demo 9 4\n",
      "demo 9 5\n",
      "demo 9 6\n",
      "demo 9 7\n",
      "demo 9 8\n",
      "demo 9 9\n"
     ]
    }
   ],
   "source": [
    "c1 = 1\n",
    "while c1 < 10:\n",
    "    print(\"demo 8\", c1)\n",
    "    c1 += 1\n",
    "\n",
    "for i in range(10):\n",
    "    print(\"demo 9\", i)"
   ]
  },
  {
   "cell_type": "markdown",
   "metadata": {},
   "source": [
    "## List"
   ]
  },
  {
   "cell_type": "markdown",
   "metadata": {},
   "source": [
    "= Array của Javascript"
   ]
  },
  {
   "cell_type": "code",
   "execution_count": 19,
   "metadata": {},
   "outputs": [
    {
     "name": "stdout",
     "output_type": "stream",
     "text": [
      "[1, 2, 3, 4, 5, 6, 7, 8, 9, 10, 11, 12, 13, 14, 15]\n",
      "True\n",
      "[1, 2, 3, 4]\n",
      "[5, 10, 15, 20, 25, 30, 35, 40]\n",
      "None\n",
      "[8, 7, 6, 5, 4, 3, 2, 1]\n",
      "[3, 7]\n"
     ]
    }
   ],
   "source": [
    "_array1 = [1, 2, 3, 4, 5, 6, 7, 8]\n",
    "_array2 = list(range(9, 15 + 1))\n",
    "\n",
    "len(_array1) # get number of elements\n",
    "\n",
    "_array3 = [*_array1, *_array2] # concat Javascript\n",
    "print(_array3)\n",
    "\n",
    "\n",
    "print(all([True, True, True])) # every Javascript\n",
    "\n",
    "def filterCallback(item):\n",
    "    return item < 5\n",
    "\n",
    "# filter = 1 python class\n",
    "filterList = list(filter(filterCallback, _array1)) # filter Javascript\n",
    "print(filterList)\n",
    "\n",
    "# map = 1 python class\n",
    "def mapCallback(item):\n",
    "    return item * 5\n",
    "    \n",
    "mapList = list(map(mapCallback, _array1)) # map Javascript\n",
    "print(mapList)\n",
    "\n",
    "_array2.append(16) # push Javascript\n",
    "\n",
    "print(_array1.reverse()) # reverse Javascript\n",
    "print(_array1) # ăn trực tiếp vào list \n",
    "_array1.reverse()\n",
    "\n",
    "\n",
    "print(_array1[2::4]) # slice Javascript\n",
    "\n",
    "print(_array2.sort()) # sort Javascript\n"
   ]
  },
  {
   "cell_type": "markdown",
   "metadata": {},
   "source": [
    "## Set"
   ]
  },
  {
   "cell_type": "markdown",
   "metadata": {},
   "source": [
    "Là 1 tập hợp elements mà mỗi element is unique in set\n",
    "- Order của element không theo index"
   ]
  },
  {
   "cell_type": "code",
   "execution_count": 4,
   "metadata": {},
   "outputs": [
    {
     "data": {
      "text/plain": [
       "True"
      ]
     },
     "execution_count": 4,
     "metadata": {},
     "output_type": "execute_result"
    }
   ],
   "source": [
    "_set = {1, 2, 3, 4}\n",
    "_set = set(1, 2, 3, 4)\n",
    "_set = set([1, 2, 3, 4])\n",
    "\n",
    "_set.add(5) # add element to set\n",
    "_set.remove(5) # remove element to set\n",
    "_set.clear() # clear all elements\n",
    "\n",
    "len(_set) # get number of elements in set\n",
    "\n",
    "d1 = 1\n",
    "d1 in _set\n",
    "d1 not in _set"
   ]
  },
  {
   "cell_type": "markdown",
   "metadata": {},
   "source": [
    "## Dictionary"
   ]
  },
  {
   "cell_type": "markdown",
   "metadata": {},
   "source": [
    "= Object trong Javascript"
   ]
  },
  {
   "cell_type": "code",
   "execution_count": 5,
   "metadata": {},
   "outputs": [
    {
     "name": "stdout",
     "output_type": "stream",
     "text": [
      "{'name': 'Duy', 'age': 22, 'city': 'Hai Phong'}\n",
      "Hai Phong\n",
      "dict_keys(['name', 'age', 'city'])\n",
      "dict_values(['Duy', 22, 'Hai Phong'])\n",
      "dict_items([('name', 'Duy'), ('age', 22), ('city', 'Hai Phong')])\n",
      "{'name': 'Duy', 'age': 22, 'city': 'Hai Phong'} {'name': 'Duy', 'age': 22, 'city': 'Hai Phong', 'job': 'developer'}\n"
     ]
    }
   ],
   "source": [
    "person = {\n",
    "    \"name\": \"Duy\",\n",
    "    \"age\": 22,\n",
    "}\n",
    "\n",
    "person[\"city\"] = \"Hai Phong\"\n",
    "\n",
    "print(person)\n",
    "print(person[\"city\"])\n",
    "print(person.keys())\n",
    "print(person.values())\n",
    "print(person.items())\n",
    "\n",
    "person2 = person.copy()\n",
    "person2[\"job\"] = \"developer\"\n",
    "\n",
    "print(person, person2)\n",
    "\n"
   ]
  },
  {
   "cell_type": "markdown",
   "metadata": {},
   "source": [
    "# OOP"
   ]
  },
  {
   "cell_type": "code",
   "execution_count": 5,
   "metadata": {},
   "outputs": [
    {
     "name": "stdout",
     "output_type": "stream",
     "text": [
      "<class '__main__.Dog'>\n",
      "bark\n",
      "bark 2\n",
      "Hello Another Dog\n",
      "I'm <__main__.Dog object at 0x0000021E20BC7430>\n",
      "My name is Tom\n",
      "Parent Attribute 1\n",
      "Child 1 Attribute 1\n",
      "Child 2 Attribute 2\n",
      "2\n"
     ]
    }
   ],
   "source": [
    "\n",
    "class Dog:\n",
    "    def __init__(self, name):\n",
    "        self.name = name\n",
    "\n",
    "    def bark(self): # có self = 1st param => function của object\n",
    "        print(\"bark\")\n",
    "\n",
    "    def bark2(): # ko có self => static function\n",
    "        print(\"bark 2\")\n",
    "\n",
    "    def hello(self, message):\n",
    "        print(\"Hello\", message)\n",
    "    \n",
    "    def selfIntro(self, hello): # self và \n",
    "        print(hello, self)\n",
    "        print(\"My name is\", self.name)\n",
    "\n",
    "newDog = Dog(\"Tom\")\n",
    "\n",
    "print(type(newDog))\n",
    "\n",
    "newDog.bark()\n",
    "Dog.bark2()\n",
    "\n",
    "newDog.hello(\"Another Dog\")\n",
    "newDog.selfIntro(\"I'm\")\n",
    "\n",
    "class Parent:\n",
    "    staticAttribute = 2\n",
    "\n",
    "    def __init__(self):\n",
    "        self.attributes1 = \"Attribute 1\"\n",
    "    def parentFunc(self):\n",
    "        print(\"Parent\", self.attributes1)\n",
    "\n",
    "class Child(Parent): # inherit\n",
    "    def __init__(self):\n",
    "        super().__init__() # supper contrutor\n",
    "        self.attributes2 = \"Attribute 2\"\n",
    "    def childFunc(self):\n",
    "        print(\"Child 1\", self.attributes1)\n",
    "        print(\"Child 2\", self.attributes2)\n",
    "\n",
    "child1 = Child()\n",
    "child1.parentFunc()\n",
    "child1.childFunc()\n",
    "print(Child.staticAttribute)\n"
   ]
  },
  {
   "cell_type": "markdown",
   "metadata": {},
   "source": [
    "# venv"
   ]
  },
  {
   "cell_type": "markdown",
   "metadata": {},
   "source": [
    "Tạo ra môi trường python riêng cho 1 project\n",
    "1. Tạo project folder\n",
    "2. Mở terminal của folder"
   ]
  },
  {
   "cell_type": "code",
   "execution_count": null,
   "metadata": {},
   "outputs": [],
   "source": [
    "$ python -m venv name_venv\n",
    "\n",
    "$ name_venv/Scripts/Activate.bat"
   ]
  },
  {
   "cell_type": "markdown",
   "metadata": {},
   "source": [
    "3. Nhấn `ctrl + shift + p`\n",
    "4. Python: Select Interpreter\n",
    "5. Chọn python trong folder `name_venv`\n",
    "6. Mở terminal mới => terminal của python trong `name_venv`\n",
    "7. Install module như bình thường"
   ]
  }
 ],
 "metadata": {
  "interpreter": {
   "hash": "63fd5069d213b44bf678585dea6b12cceca9941eaf7f819626cde1f2670de90d"
  },
  "kernelspec": {
   "display_name": "Python 3.9.5 64-bit",
   "language": "python",
   "name": "python3"
  },
  "language_info": {
   "codemirror_mode": {
    "name": "ipython",
    "version": 3
   },
   "file_extension": ".py",
   "mimetype": "text/x-python",
   "name": "python",
   "nbconvert_exporter": "python",
   "pygments_lexer": "ipython3",
   "version": "3.9.5"
  },
  "orig_nbformat": 4
 },
 "nbformat": 4,
 "nbformat_minor": 2
}
